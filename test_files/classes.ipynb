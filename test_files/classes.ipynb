{
    "cells": [
        {
            "cell_type": "code",
            "execution_count": 21,
            "metadata": {
                "start_cell": true,
                "class": "Data Visualization",
                "codes": [
                    {
                        "notebook_id": 1,
                        "code": "print(1+2)",
                        "outputs": [
                            {
                                "name": "stdout",
                                "output_type": "stream",
                                "text": [
                                    "3"
                                ]
                            }
                        ]
                    },
                    {
                        "notebook_id": 2,
                        "code": "print(5+2)",
                        "outputs": [
                            {
                                "name": "stdout",
                                "output_type": "stream",
                                "text": [
                                    "7"
                                ]
                            }
                        ]
                    }
                ]
            },
            "outputs": [
                {
                    "name": "stdout",
                    "output_type": "stream",
                    "text": [
                        "12"
                    ]
                }
            ],
            "source": [
                "print(4 + 8)"
            ]
        }
    ],
    "metadata": {
        "data_submissions": true,
        "kernelspec": {
            "display_name": "Python 3 (ipykernel)",
            "language": "python",
            "name": "python3"
        },
        "language_info": {
            "codemirror_mode": {
                "name": "ipython",
                "version": 3
            },
            "file_extension": ".py",
            "mimetype": "text/x-python",
            "name": "python",
            "nbconvert_exporter": "python",
            "pygments_lexer": "ipython3",
            "version": "3.12.3"
        },
        "n_clusters": 2
    },
    "nbformat": 4,
    "nbformat_minor": 4
}