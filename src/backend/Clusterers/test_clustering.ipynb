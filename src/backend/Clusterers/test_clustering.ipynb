{
 "cells": [
  {
   "cell_type": "code",
   "execution_count": 1,
   "metadata": {},
   "outputs": [],
   "source": [
    "import json\n",
    "\n",
    "notebook_file = \"/home/ryounis/Documents/Zurich/PEACHLab/datascience-visualisation/data/datasets/Natural Language Processing with Disaster Tweets/classified_notebooks.json\"\n",
    "with open(notebook_file, 'r') as file:\n",
    "    data = json.load(file)"
   ]
  },
  {
   "cell_type": "code",
   "execution_count": null,
   "metadata": {},
   "outputs": [],
   "source": [
    "import os\n",
    "from Clusterers.clusterer import ClassCluster\n",
    "from tqdm import tqdm\n",
    "\n",
    "with open('../../../secrets/api_key.txt', 'r') as f: api_key = f'{f.read()}'\n",
    "\n",
    "os.environ[\"OPENAI_API_KEY\"] = api_key\n",
    "clusterer = ClassCluster()\n",
    "for notebook in tqdm(data[\"notebooks\"]):\n",
    "    for cell in notebook[\"cells\"]:\n",
    "        cell[\"embedding\"] = clusterer.embed_cell(cell[\"code\"], cell[\"desc\"])"
   ]
  },
  {
   "cell_type": "code",
   "execution_count": null,
   "metadata": {},
   "outputs": [],
   "source": [
    "import os\n",
    "from tqdm import tqdm\n",
    "import sys; sys.path.insert(0, \"../\")\n",
    "from Clusterers.clusterer import ClassCluster\n",
    "with open('../../../secrets/api_key.txt', 'r') as f: api_key = f'{f.read()}'\n",
    "\n",
    "os.environ[\"OPENAI_API_KEY\"] = api_key\n",
    "clusterer = ClassCluster()\n",
    "for notebook in tqdm(data[\"notebooks\"]):\n",
    "    for cell in notebook[\"cells\"][\"cells\"]:\n",
    "        cell[\"embedding\"] = clusterer.embed_cell(cell[\"code\"], cell[\"desc\"])"
   ]
  },
  {
   "cell_type": "code",
   "execution_count": null,
   "metadata": {},
   "outputs": [],
   "source": []
  },
  {
   "cell_type": "code",
   "execution_count": null,
   "metadata": {},
   "outputs": [],
   "source": [
    "from sklearn.decomposition import PCA\n",
    "import numpy as np\n",
    "\n",
    "embeddings = np.array([cell[\"embedding\"] for notebook in data[\"notebooks\"] for cell in notebook[\"cells\"]])\n",
    "\n",
    "pca = PCA(n_components=2)\n",
    "pca.fit(embeddings)\n",
    "embeddings_pca = pca.transform(embeddings)\n",
    "principal_components = pca.components_\n",
    "explained_variance_ratio = pca.explained_variance_ratio_"
   ]
  },
  {
   "cell_type": "code",
   "execution_count": null,
   "metadata": {},
   "outputs": [],
   "source": [
    "import pandas as pd\n",
    "from pandas.plotting import scatter_matrix\n",
    "\n",
    "import matplotlib.pyplot as plt\n",
    "\n",
    "# Convert the embeddings_pca array to a DataFrame\n",
    "df_embeddings_pca = pd.DataFrame(embeddings_pca, columns=['Principal Component 1', 'Principal Component 2'])\n",
    "\n",
    "# Create the scatter matrix\n",
    "scatter_matrix(df_embeddings_pca, figsize=(8, 8), alpha=0.5)\n",
    "plt.show()"
   ]
  }
 ],
 "metadata": {
  "kernelspec": {
   "display_name": "Python 3",
   "language": "python",
   "name": "python3"
  },
  "language_info": {
   "codemirror_mode": {
    "name": "ipython",
    "version": 3
   },
   "file_extension": ".py",
   "mimetype": "text/x-python",
   "name": "python",
   "nbconvert_exporter": "python",
   "pygments_lexer": "ipython3",
   "version": "3.10.12"
  }
 },
 "nbformat": 4,
 "nbformat_minor": 2
}
