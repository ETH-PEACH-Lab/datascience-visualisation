{
 "cells": [
  {
   "cell_type": "code",
   "execution_count": 1,
   "metadata": {},
   "outputs": [],
   "source": [
    "import sys; sys.path.insert(0, \"../\")\n",
    "import os\n",
    "import random\n",
    "from utils.helper_functions import load_notebook, notebook_extract_code\n",
    "from Classifiers.GPTClassifier import GPTClassifier\n",
    "\n",
    "dataset_dir = \"/home/ryounis/Documents/Zurich/PEACHLab/backend/data/test_datasets/Natural Language Processing with Disaster Tweets\"\n",
    "\n",
    "# Get the list of all ipynb files in the directory\n",
    "notebook_files = [file for file in os.listdir(dataset_dir) if file.endswith(\".ipynb\")]\n",
    "\n",
    "notebooks = []\n",
    "n_notebooks = 20\n",
    "for file in notebook_files:\n",
    "    notebook = load_notebook(os.path.join(dataset_dir, file))\n",
    "    cells = notebook_extract_code(notebook)\n",
    "    if len(cells) >= 15:\n",
    "        notebook_cells.append(cells)\n",
    "        n_notebooks -= 1"
   ]
  },
  {
   "cell_type": "code",
   "execution_count": null,
   "metadata": {},
   "outputs": [],
   "source": []
  },
  {
   "cell_type": "code",
   "execution_count": null,
   "metadata": {},
   "outputs": [],
   "source": []
  }
 ],
 "metadata": {
  "kernelspec": {
   "display_name": "Python 3",
   "language": "python",
   "name": "python3"
  },
  "language_info": {
   "codemirror_mode": {
    "name": "ipython",
    "version": 3
   },
   "file_extension": ".py",
   "mimetype": "text/x-python",
   "name": "python",
   "nbconvert_exporter": "python",
   "pygments_lexer": "ipython3",
   "version": "3.10.12"
  }
 },
 "nbformat": 4,
 "nbformat_minor": 2
}
